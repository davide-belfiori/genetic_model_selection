{
 "cells": [
  {
   "cell_type": "markdown",
   "metadata": {},
   "source": [
    "# **Algoritmi Genetici per l'ottimizzazione di modelli di Machine Learning**"
   ]
  },
  {
   "cell_type": "markdown",
   "metadata": {},
   "source": [
    "In questo Notebook viene presentata una applicazione degli Algoritmi Genetici nel campo del Machine Learning.\n",
    "\n",
    "Lo scopo è quello di ottimizzare modelli di **Regressione** **Lineare** tenendo conto delle ***performance*** e della ***complessità*** dei modelli stessi."
   ]
  },
  {
   "cell_type": "markdown",
   "metadata": {},
   "source": [
    "## **Cenni sulle tecniche di Model Selection**"
   ]
  },
  {
   "cell_type": "markdown",
   "metadata": {},
   "source": [
    "Per **Model Selection** si intende il processo di selezione di un modello di Machine Learning all'interno di una collezione di modelli, questi possono essere di tipologia differente (*Alberi di decisione*, *Regressione lineare*, *Reti neurali* ...) oppure possono essere dello stesso tipo ma differire, ad esempio, per i valori assegnati agli iperparametri o per il numero di variabili coinvolte.\n",
    "\n",
    "Scegliere il **migliore** tra questi spesso voler dire non considerare esclusivamente le prestazioni ma anche altre caratteristiche come la **complessità** o l'**interpretabilità** del modello.\n",
    "\n",
    "Nello specifico, in questo lavoro si vuole selezionare il modello di **Regressione Lineare** che fornisce il miglior compromesso tra *accuratezza* e *complessità*.\n",
    "\n",
    "Al fine di poter quantificare la bontà di tale compromesso è possibile ricorrere ad alcuni indici che tengono conto di entambi questi parametri."
   ]
  },
  {
   "cell_type": "markdown",
   "metadata": {},
   "source": [
    "### **Akaike Information Criterion** (AIC)\n",
    "\n",
    "Per un modello di Regression Lineare può essere calcolato come\n",
    "$$\n",
    "AIC = n * log(\\frac{RSS}{n}) + 2k\n",
    "$$\n",
    "Dove $k$ rappresenta il numero di parametri stimati del modello (coefficienti delle variabili + intercetta), $RSS$ stà per *Residual Sum of Squares* ed $n$ rappresenta il numero di esempi utilizzati per l'addestamento.\n",
    "\n",
    "Considerati due modelli $M_1$ ed $M_2$ se $AIC(M_1) < AIC(M_2)$ allora si può dire che $M_1$ è **preferibile** ad $M_2$."
   ]
  },
  {
   "cell_type": "markdown",
   "metadata": {},
   "source": [
    "### **Bayesian Information Criteria** (BIC) :\n",
    "\n",
    "Per un modello di Regression Lineare può essere calcolato come\n",
    "$$\n",
    "BIC = n * log(\\frac{RSS}{n}) + log(n) * k\n",
    "$$\n",
    "Esattamente come avviene per $AIC$ un modello con un valore minore di $BIC$ è preferibile rispetto ad un modello con un valore più alto."
   ]
  },
  {
   "cell_type": "markdown",
   "metadata": {},
   "source": [
    "### **Adjusted R<sup>2</sup>** : \n",
    "\n",
    "Per un modello di Regression Lineare può essere calcolato come\n",
    "$$\n",
    "{R^2}_{adj} = 1 - \\frac{\\frac{RSS}{(n - k - 1)}}{\\frac{TSS}{(n - 1)}}\n",
    "$$\n",
    "Dove $TSS$ stà per *Total Sum of Squares*.\n",
    "\n",
    "Al contrario degli indici precedenti, questo criterio induce a preferire modelli con un **valore più alto**."
   ]
  },
  {
   "cell_type": "markdown",
   "metadata": {},
   "source": [
    "Dal momento in cui la misura della **complessità** del modello è data dal numero di variabili utilizzate, è facile capire che trovare la migliore combinazione di queste significa dover testare $2^p$ modelli, con $p$ = numero di features del dataset.\n",
    "\n",
    "Questo approccio risulta inapplicabile per la maggior parte di problemi reali, ad esempio se $p = 20$ -> $2^p = 1.048.576$.\n",
    "\n",
    "Per questo motivo sono stati introdotti metodi che cercano di limitare il numero di modelli da testre, tra questi citiamo:\n",
    "\n",
    "- **Forward Selection**\n",
    "- **Backward Selection**\n",
    "- **Stepwise Selection**\n",
    "\n",
    "In questo lavoro si vuole invece testare l'efficacia di un approccio basato su **Algoritmi Genetici** e confrontare i risultati con i metodi sopra elencati."
   ]
  },
  {
   "cell_type": "markdown",
   "metadata": {},
   "source": [
    "## **Import**"
   ]
  },
  {
   "cell_type": "code",
   "execution_count": 1,
   "metadata": {},
   "outputs": [],
   "source": [
    "import random\n",
    "from sklearn.preprocessing import PolynomialFeatures\n",
    "from sklearn.linear_model import LinearRegression\n",
    "from sklearn.metrics import mean_squared_error\n",
    "import numpy as np\n",
    "import pandas as pd\n",
    "from itersel import *\n",
    "from genetic.problem import Element, GAProblem, MultiThreadGAProblem\n",
    "from genetic.evolution import GeneticSolver, MultiThreadGeneticSolver\n",
    "from genetic.crossover import uniform_crossover\n",
    "import matplotlib.pyplot as plt"
   ]
  },
  {
   "cell_type": "markdown",
   "metadata": {},
   "source": [
    "## **Dataset**"
   ]
  },
  {
   "cell_type": "markdown",
   "metadata": {},
   "source": [
    "Caricamento"
   ]
  },
  {
   "cell_type": "code",
   "execution_count": 2,
   "metadata": {},
   "outputs": [
    {
     "data": {
      "text/html": [
       "<div>\n",
       "<style scoped>\n",
       "    .dataframe tbody tr th:only-of-type {\n",
       "        vertical-align: middle;\n",
       "    }\n",
       "\n",
       "    .dataframe tbody tr th {\n",
       "        vertical-align: top;\n",
       "    }\n",
       "\n",
       "    .dataframe thead th {\n",
       "        text-align: right;\n",
       "    }\n",
       "</style>\n",
       "<table border=\"1\" class=\"dataframe\">\n",
       "  <thead>\n",
       "    <tr style=\"text-align: right;\">\n",
       "      <th></th>\n",
       "      <th>Income</th>\n",
       "      <th>Limit</th>\n",
       "      <th>Rating</th>\n",
       "      <th>Cards</th>\n",
       "      <th>Age</th>\n",
       "      <th>Education</th>\n",
       "      <th>Gender</th>\n",
       "      <th>Student</th>\n",
       "      <th>Married</th>\n",
       "      <th>Ethnicity</th>\n",
       "      <th>Balance</th>\n",
       "    </tr>\n",
       "  </thead>\n",
       "  <tbody>\n",
       "    <tr>\n",
       "      <th>0</th>\n",
       "      <td>14.891</td>\n",
       "      <td>3606</td>\n",
       "      <td>283</td>\n",
       "      <td>2</td>\n",
       "      <td>34</td>\n",
       "      <td>11</td>\n",
       "      <td>Male</td>\n",
       "      <td>No</td>\n",
       "      <td>Yes</td>\n",
       "      <td>Caucasian</td>\n",
       "      <td>333</td>\n",
       "    </tr>\n",
       "    <tr>\n",
       "      <th>1</th>\n",
       "      <td>106.025</td>\n",
       "      <td>6645</td>\n",
       "      <td>483</td>\n",
       "      <td>3</td>\n",
       "      <td>82</td>\n",
       "      <td>15</td>\n",
       "      <td>Female</td>\n",
       "      <td>Yes</td>\n",
       "      <td>Yes</td>\n",
       "      <td>Asian</td>\n",
       "      <td>903</td>\n",
       "    </tr>\n",
       "    <tr>\n",
       "      <th>2</th>\n",
       "      <td>104.593</td>\n",
       "      <td>7075</td>\n",
       "      <td>514</td>\n",
       "      <td>4</td>\n",
       "      <td>71</td>\n",
       "      <td>11</td>\n",
       "      <td>Male</td>\n",
       "      <td>No</td>\n",
       "      <td>No</td>\n",
       "      <td>Asian</td>\n",
       "      <td>580</td>\n",
       "    </tr>\n",
       "    <tr>\n",
       "      <th>3</th>\n",
       "      <td>148.924</td>\n",
       "      <td>9504</td>\n",
       "      <td>681</td>\n",
       "      <td>3</td>\n",
       "      <td>36</td>\n",
       "      <td>11</td>\n",
       "      <td>Female</td>\n",
       "      <td>No</td>\n",
       "      <td>No</td>\n",
       "      <td>Asian</td>\n",
       "      <td>964</td>\n",
       "    </tr>\n",
       "    <tr>\n",
       "      <th>4</th>\n",
       "      <td>55.882</td>\n",
       "      <td>4897</td>\n",
       "      <td>357</td>\n",
       "      <td>2</td>\n",
       "      <td>68</td>\n",
       "      <td>16</td>\n",
       "      <td>Male</td>\n",
       "      <td>No</td>\n",
       "      <td>Yes</td>\n",
       "      <td>Caucasian</td>\n",
       "      <td>331</td>\n",
       "    </tr>\n",
       "  </tbody>\n",
       "</table>\n",
       "</div>"
      ],
      "text/plain": [
       "    Income  Limit  Rating  Cards  Age  Education  Gender Student Married  \\\n",
       "0   14.891   3606     283      2   34         11    Male      No     Yes   \n",
       "1  106.025   6645     483      3   82         15  Female     Yes     Yes   \n",
       "2  104.593   7075     514      4   71         11    Male      No      No   \n",
       "3  148.924   9504     681      3   36         11  Female      No      No   \n",
       "4   55.882   4897     357      2   68         16    Male      No     Yes   \n",
       "\n",
       "   Ethnicity  Balance  \n",
       "0  Caucasian      333  \n",
       "1      Asian      903  \n",
       "2      Asian      580  \n",
       "3      Asian      964  \n",
       "4  Caucasian      331  "
      ]
     },
     "execution_count": 2,
     "metadata": {},
     "output_type": "execute_result"
    }
   ],
   "source": [
    "credit_df = pd.read_csv(\"dataset/credit.csv\")\n",
    "credit_df.head()"
   ]
  },
  {
   "cell_type": "markdown",
   "metadata": {},
   "source": [
    "Info sul dataset"
   ]
  },
  {
   "cell_type": "code",
   "execution_count": 3,
   "metadata": {},
   "outputs": [
    {
     "name": "stdout",
     "output_type": "stream",
     "text": [
      "<class 'pandas.core.frame.DataFrame'>\n",
      "RangeIndex: 400 entries, 0 to 399\n",
      "Data columns (total 11 columns):\n",
      " #   Column     Non-Null Count  Dtype  \n",
      "---  ------     --------------  -----  \n",
      " 0   Income     400 non-null    float64\n",
      " 1   Limit      400 non-null    int64  \n",
      " 2   Rating     400 non-null    int64  \n",
      " 3   Cards      400 non-null    int64  \n",
      " 4   Age        400 non-null    int64  \n",
      " 5   Education  400 non-null    int64  \n",
      " 6   Gender     400 non-null    object \n",
      " 7   Student    400 non-null    object \n",
      " 8   Married    400 non-null    object \n",
      " 9   Ethnicity  400 non-null    object \n",
      " 10  Balance    400 non-null    int64  \n",
      "dtypes: float64(1), int64(6), object(4)\n",
      "memory usage: 34.5+ KB\n"
     ]
    }
   ],
   "source": [
    "credit_df.info()"
   ]
  },
  {
   "cell_type": "code",
   "execution_count": 4,
   "metadata": {},
   "outputs": [
    {
     "data": {
      "text/html": [
       "<div>\n",
       "<style scoped>\n",
       "    .dataframe tbody tr th:only-of-type {\n",
       "        vertical-align: middle;\n",
       "    }\n",
       "\n",
       "    .dataframe tbody tr th {\n",
       "        vertical-align: top;\n",
       "    }\n",
       "\n",
       "    .dataframe thead th {\n",
       "        text-align: right;\n",
       "    }\n",
       "</style>\n",
       "<table border=\"1\" class=\"dataframe\">\n",
       "  <thead>\n",
       "    <tr style=\"text-align: right;\">\n",
       "      <th></th>\n",
       "      <th>Income</th>\n",
       "      <th>Limit</th>\n",
       "      <th>Rating</th>\n",
       "      <th>Cards</th>\n",
       "      <th>Age</th>\n",
       "      <th>Education</th>\n",
       "      <th>Balance</th>\n",
       "    </tr>\n",
       "  </thead>\n",
       "  <tbody>\n",
       "    <tr>\n",
       "      <th>count</th>\n",
       "      <td>400.000000</td>\n",
       "      <td>400.000000</td>\n",
       "      <td>400.000000</td>\n",
       "      <td>400.000000</td>\n",
       "      <td>400.000000</td>\n",
       "      <td>400.000000</td>\n",
       "      <td>400.000000</td>\n",
       "    </tr>\n",
       "    <tr>\n",
       "      <th>mean</th>\n",
       "      <td>45.218885</td>\n",
       "      <td>4735.600000</td>\n",
       "      <td>354.940000</td>\n",
       "      <td>2.957500</td>\n",
       "      <td>55.667500</td>\n",
       "      <td>13.450000</td>\n",
       "      <td>520.015000</td>\n",
       "    </tr>\n",
       "    <tr>\n",
       "      <th>std</th>\n",
       "      <td>35.244273</td>\n",
       "      <td>2308.198848</td>\n",
       "      <td>154.724143</td>\n",
       "      <td>1.371275</td>\n",
       "      <td>17.249807</td>\n",
       "      <td>3.125207</td>\n",
       "      <td>459.758877</td>\n",
       "    </tr>\n",
       "    <tr>\n",
       "      <th>min</th>\n",
       "      <td>10.354000</td>\n",
       "      <td>855.000000</td>\n",
       "      <td>93.000000</td>\n",
       "      <td>1.000000</td>\n",
       "      <td>23.000000</td>\n",
       "      <td>5.000000</td>\n",
       "      <td>0.000000</td>\n",
       "    </tr>\n",
       "    <tr>\n",
       "      <th>25%</th>\n",
       "      <td>21.007250</td>\n",
       "      <td>3088.000000</td>\n",
       "      <td>247.250000</td>\n",
       "      <td>2.000000</td>\n",
       "      <td>41.750000</td>\n",
       "      <td>11.000000</td>\n",
       "      <td>68.750000</td>\n",
       "    </tr>\n",
       "    <tr>\n",
       "      <th>50%</th>\n",
       "      <td>33.115500</td>\n",
       "      <td>4622.500000</td>\n",
       "      <td>344.000000</td>\n",
       "      <td>3.000000</td>\n",
       "      <td>56.000000</td>\n",
       "      <td>14.000000</td>\n",
       "      <td>459.500000</td>\n",
       "    </tr>\n",
       "    <tr>\n",
       "      <th>75%</th>\n",
       "      <td>57.470750</td>\n",
       "      <td>5872.750000</td>\n",
       "      <td>437.250000</td>\n",
       "      <td>4.000000</td>\n",
       "      <td>70.000000</td>\n",
       "      <td>16.000000</td>\n",
       "      <td>863.000000</td>\n",
       "    </tr>\n",
       "    <tr>\n",
       "      <th>max</th>\n",
       "      <td>186.634000</td>\n",
       "      <td>13913.000000</td>\n",
       "      <td>982.000000</td>\n",
       "      <td>9.000000</td>\n",
       "      <td>98.000000</td>\n",
       "      <td>20.000000</td>\n",
       "      <td>1999.000000</td>\n",
       "    </tr>\n",
       "  </tbody>\n",
       "</table>\n",
       "</div>"
      ],
      "text/plain": [
       "           Income         Limit      Rating       Cards         Age  \\\n",
       "count  400.000000    400.000000  400.000000  400.000000  400.000000   \n",
       "mean    45.218885   4735.600000  354.940000    2.957500   55.667500   \n",
       "std     35.244273   2308.198848  154.724143    1.371275   17.249807   \n",
       "min     10.354000    855.000000   93.000000    1.000000   23.000000   \n",
       "25%     21.007250   3088.000000  247.250000    2.000000   41.750000   \n",
       "50%     33.115500   4622.500000  344.000000    3.000000   56.000000   \n",
       "75%     57.470750   5872.750000  437.250000    4.000000   70.000000   \n",
       "max    186.634000  13913.000000  982.000000    9.000000   98.000000   \n",
       "\n",
       "        Education      Balance  \n",
       "count  400.000000   400.000000  \n",
       "mean    13.450000   520.015000  \n",
       "std      3.125207   459.758877  \n",
       "min      5.000000     0.000000  \n",
       "25%     11.000000    68.750000  \n",
       "50%     14.000000   459.500000  \n",
       "75%     16.000000   863.000000  \n",
       "max     20.000000  1999.000000  "
      ]
     },
     "execution_count": 4,
     "metadata": {},
     "output_type": "execute_result"
    }
   ],
   "source": [
    "credit_df.describe()"
   ]
  },
  {
   "cell_type": "markdown",
   "metadata": {},
   "source": [
    "Estrazione della variabile target"
   ]
  },
  {
   "cell_type": "code",
   "execution_count": 5,
   "metadata": {},
   "outputs": [],
   "source": [
    "X_credit = credit_df.drop(\"Balance\", axis = 1)\n",
    "Y_credit = np.log1p(credit_df[\"Balance\"])"
   ]
  },
  {
   "cell_type": "markdown",
   "metadata": {},
   "source": [
    "Encoding delle variabili categoriche"
   ]
  },
  {
   "cell_type": "code",
   "execution_count": 6,
   "metadata": {},
   "outputs": [
    {
     "data": {
      "text/html": [
       "<div>\n",
       "<style scoped>\n",
       "    .dataframe tbody tr th:only-of-type {\n",
       "        vertical-align: middle;\n",
       "    }\n",
       "\n",
       "    .dataframe tbody tr th {\n",
       "        vertical-align: top;\n",
       "    }\n",
       "\n",
       "    .dataframe thead th {\n",
       "        text-align: right;\n",
       "    }\n",
       "</style>\n",
       "<table border=\"1\" class=\"dataframe\">\n",
       "  <thead>\n",
       "    <tr style=\"text-align: right;\">\n",
       "      <th></th>\n",
       "      <th>Income</th>\n",
       "      <th>Limit</th>\n",
       "      <th>Rating</th>\n",
       "      <th>Cards</th>\n",
       "      <th>Age</th>\n",
       "      <th>Education</th>\n",
       "      <th>Gender_Male</th>\n",
       "      <th>Student_Yes</th>\n",
       "      <th>Married_Yes</th>\n",
       "      <th>Ethnicity_Asian</th>\n",
       "      <th>Ethnicity_Caucasian</th>\n",
       "    </tr>\n",
       "  </thead>\n",
       "  <tbody>\n",
       "    <tr>\n",
       "      <th>0</th>\n",
       "      <td>14.891</td>\n",
       "      <td>3606</td>\n",
       "      <td>283</td>\n",
       "      <td>2</td>\n",
       "      <td>34</td>\n",
       "      <td>11</td>\n",
       "      <td>1</td>\n",
       "      <td>0</td>\n",
       "      <td>1</td>\n",
       "      <td>0</td>\n",
       "      <td>1</td>\n",
       "    </tr>\n",
       "    <tr>\n",
       "      <th>1</th>\n",
       "      <td>106.025</td>\n",
       "      <td>6645</td>\n",
       "      <td>483</td>\n",
       "      <td>3</td>\n",
       "      <td>82</td>\n",
       "      <td>15</td>\n",
       "      <td>0</td>\n",
       "      <td>1</td>\n",
       "      <td>1</td>\n",
       "      <td>1</td>\n",
       "      <td>0</td>\n",
       "    </tr>\n",
       "    <tr>\n",
       "      <th>2</th>\n",
       "      <td>104.593</td>\n",
       "      <td>7075</td>\n",
       "      <td>514</td>\n",
       "      <td>4</td>\n",
       "      <td>71</td>\n",
       "      <td>11</td>\n",
       "      <td>1</td>\n",
       "      <td>0</td>\n",
       "      <td>0</td>\n",
       "      <td>1</td>\n",
       "      <td>0</td>\n",
       "    </tr>\n",
       "    <tr>\n",
       "      <th>3</th>\n",
       "      <td>148.924</td>\n",
       "      <td>9504</td>\n",
       "      <td>681</td>\n",
       "      <td>3</td>\n",
       "      <td>36</td>\n",
       "      <td>11</td>\n",
       "      <td>0</td>\n",
       "      <td>0</td>\n",
       "      <td>0</td>\n",
       "      <td>1</td>\n",
       "      <td>0</td>\n",
       "    </tr>\n",
       "    <tr>\n",
       "      <th>4</th>\n",
       "      <td>55.882</td>\n",
       "      <td>4897</td>\n",
       "      <td>357</td>\n",
       "      <td>2</td>\n",
       "      <td>68</td>\n",
       "      <td>16</td>\n",
       "      <td>1</td>\n",
       "      <td>0</td>\n",
       "      <td>1</td>\n",
       "      <td>0</td>\n",
       "      <td>1</td>\n",
       "    </tr>\n",
       "  </tbody>\n",
       "</table>\n",
       "</div>"
      ],
      "text/plain": [
       "    Income  Limit  Rating  Cards  Age  Education  Gender_Male  Student_Yes  \\\n",
       "0   14.891   3606     283      2   34         11            1            0   \n",
       "1  106.025   6645     483      3   82         15            0            1   \n",
       "2  104.593   7075     514      4   71         11            1            0   \n",
       "3  148.924   9504     681      3   36         11            0            0   \n",
       "4   55.882   4897     357      2   68         16            1            0   \n",
       "\n",
       "   Married_Yes  Ethnicity_Asian  Ethnicity_Caucasian  \n",
       "0            1                0                    1  \n",
       "1            1                1                    0  \n",
       "2            0                1                    0  \n",
       "3            0                1                    0  \n",
       "4            1                0                    1  "
      ]
     },
     "execution_count": 6,
     "metadata": {},
     "output_type": "execute_result"
    }
   ],
   "source": [
    "X_credit = pd.get_dummies(X_credit, drop_first=True)\n",
    "X_credit.head()"
   ]
  },
  {
   "cell_type": "markdown",
   "metadata": {},
   "source": [
    "## **Algoritmo Genetico**"
   ]
  },
  {
   "cell_type": "markdown",
   "metadata": {},
   "source": [
    "### Funzione Obiettivo\n",
    "\n",
    "Definizione di una funzione obiettivo da ottimizzare.\n",
    "\n",
    "Tale funzione costruisce un modello di Regressione Lineare sulla base dei dati ricevuti in ingresso, e restituisce il valore dei criteri di valutazione (*AIC*, *BIC* ed *Adjusted R<sup>2</sup>*)"
   ]
  },
  {
   "cell_type": "code",
   "execution_count": 7,
   "metadata": {},
   "outputs": [],
   "source": [
    "def eval_lin_reg(X: pd.DataFrame, Y: pd.Series, return_model: bool = False):\n",
    "    '''\n",
    "        Restituisce il valore del criterio di valutazione selezionato di un modello \n",
    "        di Regressione Lineare costruito sulla base dei dati X ed Y.\n",
    "\n",
    "        Parametri:\n",
    "\n",
    "        - `X`: Variabili di input del modello di Regressione Lineare\n",
    "        - `Y`: Variabili di output del modello di Regressione Lineare\n",
    "        - `return_model`: indica se il modello costruito deve essere restituito dalla funzione. Default = `False`\n",
    "\n",
    "        Return:\n",
    "\n",
    "        La funzione restituisce un oggetto contenente i valori dei criteri di selezione, \n",
    "        il Mean Squared Error, il Residual Sum of Squares ed il modello costruito (se `return_model = True`).\n",
    "    '''\n",
    "    # Definizione del modello\n",
    "    model = LinearRegression()\n",
    "    # Addestramento\n",
    "    model.fit(X, Y)\n",
    "    # Predizione\n",
    "    Y_pred = model.predict(X)\n",
    "    # Mean Squared Error\n",
    "    mse = mean_squared_error(Y, Y_pred)\n",
    "    # Residual Sum of Squares\n",
    "    rss = np.sum((Y - Y_pred) ** 2)\n",
    "    # Numero di parametri del modello\n",
    "    num_params = len(model.coef_) + 1\n",
    "    # Numero di record del dataset\n",
    "    n = len(Y)\n",
    "    # AIC\n",
    "    aic = n * np.log(mse) + 2 * num_params\n",
    "    # BIC\n",
    "    bic = n * np.log(mse) + np.log(n) * num_params\n",
    "    # Adj. R^2\n",
    "    Y_bar = np.full(shape = (n,), fill_value = np.sum(Y, axis = 0) / n)\n",
    "    tss = np.sum((Y - Y_bar) ** 2, axis = 0)\n",
    "    rss = np.sum((Y - Y_pred) ** 2, axis = 0)\n",
    "    adjr = 1 - (rss / (n - num_params - 1)) / (tss / (n - 1))\n",
    "    \n",
    "    result = {\n",
    "        AIC:aic, BIC:bic, ADJ_R2:adjr, RSS:rss, \"_coef\": model.coef_\n",
    "    }\n",
    "    if return_model:\n",
    "        result[\"model\"] = model\n",
    "    return result"
   ]
  },
  {
   "cell_type": "markdown",
   "metadata": {},
   "source": [
    "### Definizione del problema\n",
    "\n",
    "Caratteristiche:\n",
    "- **Soluzione** = vettore di valori booleani di dimensione pari al numero di features del dataset. \n",
    "Ogni valore indica se la corrispondente variabile deve essere utilizzata o meno nella costruzione del modello\n",
    "- **Crossover** = Crossover Uniforme\n",
    "- **Mutazione** = Negazione di un elemento casuale\n",
    "- **Meccanismo di correzione** = Qualora una soluzione dovesse presentare tutti valori negativi (False), viene reso positivo un elemento a caso"
   ]
  },
  {
   "cell_type": "code",
   "execution_count": 8,
   "metadata": {},
   "outputs": [],
   "source": [
    "class ModelSelectionProblem(GAProblem):\n",
    "    '''\n",
    "        Definizione di un problema di Model Selection risolvibile tramite Algoritmi Genetici\n",
    "    '''\n",
    "    def __init__(self, X: pd.DataFrame, Y: pd.Series, colnames: np.ndarray = None, criterion: int = AIC, transform_categorical: bool = False) -> None:\n",
    "        self.X = X\n",
    "        self.Y = Y\n",
    "        if colnames == None:\n",
    "            self.colnames = self.X.columns.to_numpy()\n",
    "        else:\n",
    "            self.colnames = colnames\n",
    "        self.sol_dim = len(self.colnames)\n",
    "        if criterion != AIC and criterion != BIC and criterion != ADJ_R2:\n",
    "            raise ValueError(\"Invalid selection criterion. Must be AIC or BIC or ADJ_R2.\")\n",
    "        self.criterion = criterion\n",
    "        self.transform_categorical = transform_categorical        \n",
    "\n",
    "    def correct_solution(self, sol: np.ndarray):\n",
    "        '''\n",
    "            Funzione di correzione delle soluzioni.\n",
    "\n",
    "            Se tutti gli elementi della soluzione sono `False`, \n",
    "            viene scelto casualmente un elemento ed impostato a `True`\n",
    "        '''\n",
    "        if np.sum(sol) == 0:\n",
    "            sol[random.randrange(0, self.sol_dim)] = True\n",
    "\n",
    "    def init_pop(self, n: int) -> list:\n",
    "        pop = []\n",
    "        for _ in range(n):\n",
    "            elm = np.random.choice([False, True], self.sol_dim, replace = True)\n",
    "            # Correzione\n",
    "            self.correct_solution(elm)\n",
    "            pop.append(elm)\n",
    "        return pop\n",
    "\n",
    "    def evaluate(self, elm: Element) -> None:\n",
    "        sol = elm.solution\n",
    "        # Costruzione del dataset a partire dalla soluzione\n",
    "        cols = self.colnames[sol]\n",
    "        X_eval = self.X[cols]\n",
    "        if self.transform_categorical:\n",
    "            X_eval = pd.get_dummies(X_eval)\n",
    "        # Valutazione del modello\n",
    "        result = eval_lin_reg(X_eval, self.Y, return_model = False)\n",
    "        elm.fitness = result[self.criterion]\n",
    "\n",
    "    def crossover(self, sol1: object, sol2: object) -> 'list | tuple':\n",
    "        _sol1 = self.copy(sol1)\n",
    "        _sol2 = self.copy(sol2)\n",
    "        # Crossover uniforme\n",
    "        ch1, ch2, _ = uniform_crossover(_sol1, _sol2)\n",
    "        ch1 = np.array(ch1, dtype=bool)\n",
    "        ch2 = np.array(ch2, dtype=bool)\n",
    "        # Correzione\n",
    "        self.correct_solution(ch1)\n",
    "        self.correct_solution(ch2)\n",
    "\n",
    "        return ch1, ch2\n",
    "\n",
    "    def mutate(self, sol: object) -> object:\n",
    "        _sol = self.copy(sol)\n",
    "        # Indice casuale\n",
    "        idx = random.randrange(0, self.sol_dim)\n",
    "        # Negazione\n",
    "        _sol[idx] = not _sol[idx]\n",
    "        # Correzione\n",
    "        self.correct_solution(_sol)\n",
    "        return _sol\n",
    "\n",
    "    def copy(self, sol: object) -> object:\n",
    "        return np.copy(sol)\n"
   ]
  },
  {
   "cell_type": "code",
   "execution_count": 9,
   "metadata": {},
   "outputs": [],
   "source": [
    "problem = ModelSelectionProblem(X = X_credit, \n",
    "                                Y = Y_credit,\n",
    "                                criterion = AIC,\n",
    "                                transform_categorical = False)"
   ]
  },
  {
   "cell_type": "markdown",
   "metadata": {},
   "source": [
    "### Algoritmo risolutivo\n",
    "\n",
    "Caratteristiche:\n",
    "- **Dimensione popolazione iniziale** = 50\n",
    "- **Epoche** = 30\n",
    "- **Strategia di aggiornamento della popolazione** = Aggiornamento Generazionale\n",
    "- **Strategia di selezione del mating pool** = Roulette Wheel\n",
    "- **Elitismo** = Sì\n",
    "- **Obiettivo** = Minimizzazione"
   ]
  },
  {
   "cell_type": "code",
   "execution_count": 10,
   "metadata": {},
   "outputs": [],
   "source": [
    "pop_size = 50\n",
    "epochs = 30\n",
    "solver = GeneticSolver(problem, \n",
    "                       pop_size = pop_size, \n",
    "                       p_cross = 0.9, \n",
    "                       p_mut = 0.3,\n",
    "                       pop_update_strategy=\"generational\", \n",
    "                       selection_strategy=\"roulette_wheel\",\n",
    "                       use_elit = True,\n",
    "                       minimize = True)"
   ]
  },
  {
   "cell_type": "markdown",
   "metadata": {},
   "source": [
    "Funzioni di scheduling delle probailità di mutazione e di crossover"
   ]
  },
  {
   "cell_type": "code",
   "execution_count": 11,
   "metadata": {},
   "outputs": [],
   "source": [
    "def pmut_sched(p_mut, epoch, best, last_update, fit_history):\n",
    "    '''\n",
    "        Scheduler della probabilità di mutazione\n",
    "    '''\n",
    "    if last_update == 0:\n",
    "        return 0.1\n",
    "    return min(0.9, p_mut + 0.05)\n",
    "\n",
    "def pcross_sched(p_cross, epoch, best, last_update, fit_history):\n",
    "    '''\n",
    "        Scheduler della probabilità di crossover\n",
    "    '''\n",
    "    if last_update == 0:\n",
    "        return 0.9\n",
    "    return max(0.1, p_cross - 0.05)"
   ]
  },
  {
   "cell_type": "markdown",
   "metadata": {},
   "source": [
    "### Soluzione"
   ]
  },
  {
   "cell_type": "code",
   "execution_count": 12,
   "metadata": {},
   "outputs": [
    {
     "name": "stdout",
     "output_type": "stream",
     "text": [
      "Combinazione migliore: ['Income', 'Limit', 'Cards', 'Student_Yes', 'Ethnicity_Caucasian']\n",
      "Valore criterio: 237.01745761308197\n"
     ]
    }
   ],
   "source": [
    "solver.use_p_mut_scheduler(pmut_sched)\n",
    "solver.use_p_cross_scheduler(pcross_sched)\n",
    "best_gaAIC = solver.run(epochs = epochs, verbose = False, seed = 123)\n",
    "best_comb = X_credit.columns[best_gaAIC.solution]\n",
    "print(\"Combinazione migliore:\", best_comb.to_list())\n",
    "print(\"Valore criterio:\", best_gaAIC.fitness)"
   ]
  },
  {
   "cell_type": "markdown",
   "metadata": {},
   "source": [
    "Cronologia della fitness migliore"
   ]
  },
  {
   "cell_type": "code",
   "execution_count": 13,
   "metadata": {},
   "outputs": [
    {
     "name": "stdout",
     "output_type": "stream",
     "text": [
      "Last Update: 16\n"
     ]
    },
    {
     "data": {
      "image/png": "[encoded data removed]",
      "text/plain": [
       "<Figure size 600x300 with 1 Axes>"
      ]
     },
     "metadata": {},
     "output_type": "display_data"
    }
   ],
   "source": [
    "print(\"Last Update:\", epochs - solver.last_update) # Epoca dell'ultimo aggiornamento del miglior individuo \n",
    "plt.figure(figsize = (6,3))\n",
    "plt.plot(solver.fit_history, \"o-\")\n",
    "plt.title(\"Fitness History\")\n",
    "plt.xlabel(\"Epoch\")\n",
    "plt.ylabel(\"Fitness\")\n",
    "plt.show()"
   ]
  },
  {
   "cell_type": "markdown",
   "metadata": {},
   "source": [
    "## **Metodi di Selezione Iterativa**"
   ]
  },
  {
   "cell_type": "markdown",
   "metadata": {},
   "source": [
    "#### **Exhaustive Selection**\n",
    "\n",
    "Dato il numero contenuto di variabili del dataset, in questo caso è accettabile testare tutte le combinazioni di queste al fine di avere un valore di verità utilizzabile come riferimento per la valutazione dei risultati forniti dagli altri algoritmi. "
   ]
  },
  {
   "cell_type": "code",
   "execution_count": 14,
   "metadata": {},
   "outputs": [
    {
     "name": "stdout",
     "output_type": "stream",
     "text": [
      "Numero di modelli testati: 2047\n",
      "Combinazione migliore: ['Income', 'Limit', 'Cards', 'Student_Yes', 'Ethnicity_Caucasian']\n",
      "Valore criterio: 237.01745761308197\n",
      "Valore RSS: 702.0525025178742\n"
     ]
    }
   ],
   "source": [
    "# AIC\n",
    "best_eAIC, n_tested = exhaustive_selection(X_credit, Y_credit, eval = lambda x, y : eval_lin_reg(x, y, False), criterion = AIC, minimize=True)\n",
    "print(\"Numero di modelli testati:\", n_tested)\n",
    "print(\"Combinazione migliore:\", best_eAIC[COMB].to_list())\n",
    "print(\"Valore criterio:\", best_eAIC[CRT_VALUE])\n",
    "print(\"Valore RSS:\", best_eAIC[RSS])"
   ]
  },
  {
   "cell_type": "code",
   "execution_count": 15,
   "metadata": {},
   "outputs": [
    {
     "name": "stdout",
     "output_type": "stream",
     "text": [
      "Numero di modelli testati: 2047\n",
      "Combinazione migliore: ['Income', 'Limit', 'Student_Yes']\n",
      "Valore criterio: 255.47900304816386\n",
      "Valore RSS: 713.5463592709091\n"
     ]
    }
   ],
   "source": [
    "# BIC\n",
    "best_eBIC, n_tested = exhaustive_selection(X_credit, Y_credit, eval = lambda x, y : eval_lin_reg(x, y, False), criterion = BIC, minimize=True)\n",
    "print(\"Numero di modelli testati:\", n_tested)\n",
    "print(\"Combinazione migliore:\", best_eBIC[COMB].to_list())\n",
    "print(\"Valore criterio:\", best_eBIC[CRT_VALUE])\n",
    "print(\"Valore RSS:\", best_eBIC[RSS])"
   ]
  },
  {
   "cell_type": "code",
   "execution_count": 16,
   "metadata": {},
   "outputs": [
    {
     "name": "stdout",
     "output_type": "stream",
     "text": [
      "Numero di modelli testati: 2047\n",
      "Combinazione migliore: ['Income', 'Limit', 'Cards', 'Education', 'Student_Yes', 'Ethnicity_Caucasian']\n",
      "Valore criterio: 0.7592484377351099\n",
      "Valore RSS: 699.6364477026109\n"
     ]
    }
   ],
   "source": [
    "# ADJ. R2\n",
    "best_eR2, n_tested = exhaustive_selection(X_credit, Y_credit, eval = lambda x, y : eval_lin_reg(x, y, False), criterion = ADJ_R2, minimize=False)\n",
    "print(\"Numero di modelli testati:\", n_tested)\n",
    "print(\"Combinazione migliore:\", best_eR2[COMB].to_list())\n",
    "print(\"Valore criterio:\", best_eR2[CRT_VALUE])\n",
    "print(\"Valore RSS:\", best_eR2[RSS])"
   ]
  },
  {
   "cell_type": "markdown",
   "metadata": {},
   "source": [
    "#### **Forward Selection**\n",
    "\n",
    "1. Sia $p$ il numero totale di varaibili\n",
    "2. Comincia con $M_0$ = modello vuoto e $V$ = insieme di tutte le variabili\n",
    "3. for $i = 1 ... p$\n",
    "    4. Testa tutti i modelli ottenuti aggiungendo una variabile di $V$ ad $M_{i-1}$\n",
    "    5. $M_i$ = miglior modello testato al passo precedente, ovvero quello che genera il miglior RSS\n",
    "    6. Rimuove da $V$ la variabile che ha generato $M_i$\n",
    "7. Seleziona il miglior $M_i$ in base al criterio di selezione (AIC, BIC, ...)"
   ]
  },
  {
   "cell_type": "code",
   "execution_count": 17,
   "metadata": {},
   "outputs": [
    {
     "name": "stdout",
     "output_type": "stream",
     "text": [
      "Numero di modelli testati: 66\n",
      "Combinazione migliore: ['Income', 'Limit', 'Cards', 'Student_Yes', 'Ethnicity_Caucasian']\n",
      "Valore criterio: 237.01745761308197\n",
      "Valore RSS: 702.0525025178742\n"
     ]
    }
   ],
   "source": [
    "# AIC\n",
    "best_fAIC, n_tested = forward_selection(X_credit, Y_credit, eval = lambda x, y : eval_lin_reg(x, y, False), criterion = AIC, minimize=True)\n",
    "print(\"Numero di modelli testati:\", n_tested)\n",
    "print(\"Combinazione migliore:\", X_credit.columns[best_fAIC[COMB] > 0].to_list())\n",
    "print(\"Valore criterio:\", best_fAIC[CRT_VALUE])\n",
    "print(\"Valore RSS:\", best_fAIC[RSS])"
   ]
  },
  {
   "cell_type": "code",
   "execution_count": 18,
   "metadata": {},
   "outputs": [
    {
     "name": "stdout",
     "output_type": "stream",
     "text": [
      "Numero di modelli testati: 66\n",
      "Combinazione migliore: ['Income', 'Limit', 'Student_Yes']\n",
      "Valore criterio: 255.47900304816386\n",
      "Valore RSS: 713.5463592709091\n"
     ]
    }
   ],
   "source": [
    "# BIC\n",
    "best_fBIC, n_tested = forward_selection(X_credit, Y_credit, eval = lambda x, y : eval_lin_reg(x, y, False), criterion = BIC, minimize=True)\n",
    "print(\"Numero di modelli testati:\", n_tested)\n",
    "print(\"Combinazione migliore:\", X_credit.columns[best_fBIC[COMB] > 0].to_list())\n",
    "print(\"Valore criterio:\", best_fBIC[CRT_VALUE])\n",
    "print(\"Valore RSS:\", best_fBIC[RSS])"
   ]
  },
  {
   "cell_type": "code",
   "execution_count": 19,
   "metadata": {},
   "outputs": [
    {
     "name": "stdout",
     "output_type": "stream",
     "text": [
      "Numero di modelli testati: 66\n",
      "Combinazione migliore: ['Income', 'Limit', 'Cards', 'Education', 'Student_Yes', 'Ethnicity_Caucasian']\n",
      "Valore criterio: 0.7592484377351099\n",
      "Valore RSS: 699.6364477026109\n"
     ]
    }
   ],
   "source": [
    "# Adj. R2\n",
    "best_fR2, n_tested = forward_selection(X_credit, Y_credit, eval = lambda x, y : eval_lin_reg(x, y, False), criterion = ADJ_R2, minimize=False)\n",
    "print(\"Numero di modelli testati:\", n_tested)\n",
    "print(\"Combinazione migliore:\", X_credit.columns[best_fR2[COMB] > 0].to_list())\n",
    "print(\"Valore criterio:\", best_fR2[CRT_VALUE])\n",
    "print(\"Valore RSS:\", best_fR2[RSS])"
   ]
  },
  {
   "cell_type": "markdown",
   "metadata": {},
   "source": [
    "#### **Backward Selection**\n",
    "\n",
    "1. sia $p$ il numero totale di varaibili\n",
    "2. Comincia con $M_p$ = modello con tutte le variabili e $V$ = insieme di tutte le variabili\n",
    "3. for $i = p ... 1$\n",
    "    4. Testa tutti i modelli ottenuti rimuovendo una variabile di $V$ da $M_{i}$\n",
    "    5. $M_{i-1}$ = miglior modello testato al passo precedente, ovvero quello che genera il miglior RSS\n",
    "    6. Rimuove da $V$ la variabile che ha generato $M_{i-1}$\n",
    "7. Seleziona il miglior $M_i$ in base al criterio di selezione (AIC, BIC, ...)"
   ]
  },
  {
   "cell_type": "code",
   "execution_count": 20,
   "metadata": {},
   "outputs": [
    {
     "name": "stdout",
     "output_type": "stream",
     "text": [
      "Numero di modelli testati: 66\n",
      "Combinazione migliore: ['Income', 'Limit', 'Cards', 'Student_Yes', 'Ethnicity_Caucasian']\n",
      "Valore criterio: 237.01745761308197\n",
      "Valore RSS: 702.0525025178742\n"
     ]
    }
   ],
   "source": [
    "best_bAIC, n_tested = backward_selection(X_credit, Y_credit, eval = lambda x, y : eval_lin_reg(x, y, False), criterion = AIC, minimize=True)\n",
    "print(\"Numero di modelli testati:\", n_tested)\n",
    "print(\"Combinazione migliore:\", X_credit.columns[best_bAIC[COMB] > 0].to_list())\n",
    "print(\"Valore criterio:\", best_bAIC[CRT_VALUE])\n",
    "print(\"Valore RSS:\", best_bAIC[RSS])"
   ]
  },
  {
   "cell_type": "code",
   "execution_count": 21,
   "metadata": {},
   "outputs": [
    {
     "name": "stdout",
     "output_type": "stream",
     "text": [
      "Numero di modelli testati: 66\n",
      "Combinazione migliore: ['Income', 'Limit', 'Student_Yes']\n",
      "Valore criterio: 255.47900304816386\n",
      "Valore RSS: 713.5463592709091\n"
     ]
    }
   ],
   "source": [
    "best_bBIC, n_tested = backward_selection(X_credit, Y_credit, eval = lambda x, y : eval_lin_reg(x, y, False), criterion = BIC, minimize=True)\n",
    "print(\"Numero di modelli testati:\", n_tested)\n",
    "print(\"Combinazione migliore:\", X_credit.columns[best_bBIC[COMB] > 0].to_list())\n",
    "print(\"Valore criterio:\", best_bBIC[CRT_VALUE])\n",
    "print(\"Valore RSS:\", best_bBIC[RSS])"
   ]
  },
  {
   "cell_type": "code",
   "execution_count": 22,
   "metadata": {},
   "outputs": [
    {
     "name": "stdout",
     "output_type": "stream",
     "text": [
      "Numero di modelli testati: 66\n",
      "Combinazione migliore: ['Income', 'Limit', 'Cards', 'Education', 'Student_Yes', 'Ethnicity_Caucasian']\n",
      "Valore criterio: 0.7592484377351099\n",
      "Valore RSS: 699.6364477026109\n"
     ]
    }
   ],
   "source": [
    "best_bR2, n_tested = backward_selection(X_credit, Y_credit, eval = lambda x, y : eval_lin_reg(x, y, False), criterion = ADJ_R2, minimize=False)\n",
    "print(\"Numero di modelli testati:\", n_tested)\n",
    "print(\"Combinazione migliore:\", X_credit.columns[best_bR2[COMB] > 0].to_list())\n",
    "print(\"Valore criterio:\", best_bR2[CRT_VALUE])\n",
    "print(\"Valore RSS:\", best_bR2[RSS])"
   ]
  },
  {
   "cell_type": "markdown",
   "metadata": {},
   "source": [
    "#### **Stepwise Selection**\n",
    "\n",
    "Ibrido tra i metodi precedenti.\n",
    "\n",
    "Comincia come una Forward Selection con la differenza che, ad ogni step \"Forward\" esegue uno step \"Backward\" al fine di rimuovere dal modello una eventuale variabile che non risulta più significativa dopo l'ultima l'aggiunta."
   ]
  },
  {
   "cell_type": "code",
   "execution_count": 23,
   "metadata": {},
   "outputs": [
    {
     "name": "stdout",
     "output_type": "stream",
     "text": [
      "Numero di modelli testati: 129\n",
      "Combinazione migliore: ['Income', 'Limit', 'Cards', 'Student_Yes', 'Ethnicity_Caucasian']\n",
      "Valore criterio: 237.01745761308197\n",
      "Valore RSS: 702.0525025178742\n"
     ]
    }
   ],
   "source": [
    "best_sAIC, n_tested = stepwise_selection(X_credit, Y_credit, eval = lambda x, y : eval_lin_reg(x, y, False), criterion = AIC, minimize=True)\n",
    "print(\"Numero di modelli testati:\", n_tested)\n",
    "print(\"Combinazione migliore:\", X_credit.columns[best_sAIC[COMB] > 0].to_list())\n",
    "print(\"Valore criterio:\", best_sAIC[CRT_VALUE])\n",
    "print(\"Valore RSS:\", best_sAIC[RSS])"
   ]
  },
  {
   "cell_type": "code",
   "execution_count": 24,
   "metadata": {},
   "outputs": [
    {
     "name": "stdout",
     "output_type": "stream",
     "text": [
      "Numero di modelli testati: 129\n",
      "Combinazione migliore: ['Income', 'Limit', 'Student_Yes']\n",
      "Valore criterio: 255.47900304816386\n",
      "Valore RSS: 713.5463592709091\n"
     ]
    }
   ],
   "source": [
    "best_sBIC, n_tested = stepwise_selection(X_credit, Y_credit, eval = lambda x, y : eval_lin_reg(x, y, False), criterion = BIC, minimize=True)\n",
    "print(\"Numero di modelli testati:\", n_tested)\n",
    "print(\"Combinazione migliore:\", X_credit.columns[best_sBIC[COMB] > 0].to_list())\n",
    "print(\"Valore criterio:\", best_sBIC[CRT_VALUE])\n",
    "print(\"Valore RSS:\", best_sBIC[RSS])"
   ]
  },
  {
   "cell_type": "code",
   "execution_count": 25,
   "metadata": {},
   "outputs": [
    {
     "name": "stdout",
     "output_type": "stream",
     "text": [
      "Numero di modelli testati: 129\n",
      "Combinazione migliore: ['Income', 'Limit', 'Cards', 'Education', 'Student_Yes', 'Ethnicity_Caucasian']\n",
      "Valore criterio: 0.7592484377351099\n",
      "Valore RSS: 699.6364477026109\n"
     ]
    }
   ],
   "source": [
    "best_sR2, n_tested = stepwise_selection(X_credit, Y_credit, eval = lambda x, y : eval_lin_reg(x, y, False), criterion = ADJ_R2, minimize=False)\n",
    "print(\"Numero di modelli testati:\", n_tested)\n",
    "print(\"Combinazione migliore:\", X_credit.columns[best_sR2[COMB] > 0].to_list())\n",
    "print(\"Valore criterio:\", best_sR2[CRT_VALUE])\n",
    "print(\"Valore RSS:\", best_sR2[RSS])"
   ]
  },
  {
   "cell_type": "markdown",
   "metadata": {},
   "source": [
    "## **Confronto**"
   ]
  },
  {
   "cell_type": "markdown",
   "metadata": {},
   "source": [
    "Algoritmo genetico per indici BIC ed Adjusted R<sup>2</sup>"
   ]
  },
  {
   "cell_type": "code",
   "execution_count": 26,
   "metadata": {},
   "outputs": [
    {
     "name": "stdout",
     "output_type": "stream",
     "text": [
      "BIC Update: 255.47900304816386\n",
      "R2 Update: 0.7592484377351099\n",
      "Last BIC Update: 16\n",
      "Last R2 Update: 12\n"
     ]
    },
    {
     "data": {
      "image/png": "[encoded data removed]",
      "text/plain": [
       "<Figure size 1000x300 with 2 Axes>"
      ]
     },
     "metadata": {},
     "output_type": "display_data"
    }
   ],
   "source": [
    "solver.problem.criterion = BIC\n",
    "solver.minimize = True\n",
    "best_gaBIC = solver.run(epochs = epochs, verbose = False, seed = 123)\n",
    "BIC_fitH = solver.fit_history\n",
    "BIC_lastUpdate = epochs - solver.last_update # Epoca dell'ultimo aggiornamento del miglior individuo \n",
    "\n",
    "solver.problem.criterion = ADJ_R2\n",
    "solver.minimize = False\n",
    "best_gaR2 = solver.run(epochs = epochs, verbose = False, seed = 123)\n",
    "R2_fitH = solver.fit_history\n",
    "R2_lastUpdate = epochs - solver.last_update\n",
    "\n",
    "print(\"BIC Update:\", best_gaBIC.fitness)\n",
    "print(\"R2 Update:\", best_gaR2.fitness)\n",
    "print(\"Last BIC Update:\", BIC_lastUpdate)\n",
    "print(\"Last R2 Update:\", R2_lastUpdate)\n",
    "\n",
    "plt.figure(figsize = (10,3))\n",
    "plt.subplot(1, 2, 1)\n",
    "plt.plot(BIC_fitH, \"o-\")\n",
    "plt.title(\"Fitness History (BIC)\")\n",
    "plt.xlabel(\"Epoch\")\n",
    "plt.ylabel(\"Fitness\")\n",
    "\n",
    "plt.subplot(1, 2, 2)\n",
    "plt.plot(R2_fitH, \"o-\")\n",
    "plt.title(\"Fitness History (Adj. R^2)\")\n",
    "plt.xlabel(\"Epoch\")\n",
    "\n",
    "plt.show()"
   ]
  },
  {
   "cell_type": "markdown",
   "metadata": {},
   "source": [
    "Risultati"
   ]
  },
  {
   "cell_type": "code",
   "execution_count": 27,
   "metadata": {},
   "outputs": [
    {
     "data": {
      "text/html": [
       "<div>\n",
       "<style scoped>\n",
       "    .dataframe tbody tr th:only-of-type {\n",
       "        vertical-align: middle;\n",
       "    }\n",
       "\n",
       "    .dataframe tbody tr th {\n",
       "        vertical-align: top;\n",
       "    }\n",
       "\n",
       "    .dataframe thead th {\n",
       "        text-align: right;\n",
       "    }\n",
       "</style>\n",
       "<table border=\"1\" class=\"dataframe\">\n",
       "  <thead>\n",
       "    <tr style=\"text-align: right;\">\n",
       "      <th></th>\n",
       "      <th>Exhaustive</th>\n",
       "      <th>Forward</th>\n",
       "      <th>Backward</th>\n",
       "      <th>Stepwise</th>\n",
       "      <th>GA</th>\n",
       "    </tr>\n",
       "  </thead>\n",
       "  <tbody>\n",
       "    <tr>\n",
       "      <th>AIC</th>\n",
       "      <td>237.017458</td>\n",
       "      <td>237.017458</td>\n",
       "      <td>237.017458</td>\n",
       "      <td>237.017458</td>\n",
       "      <td>237.017458</td>\n",
       "    </tr>\n",
       "    <tr>\n",
       "      <th>BIC</th>\n",
       "      <td>255.479003</td>\n",
       "      <td>255.479003</td>\n",
       "      <td>255.479003</td>\n",
       "      <td>255.479003</td>\n",
       "      <td>255.479003</td>\n",
       "    </tr>\n",
       "    <tr>\n",
       "      <th>ADJ. R2</th>\n",
       "      <td>0.759248</td>\n",
       "      <td>0.759248</td>\n",
       "      <td>0.759248</td>\n",
       "      <td>0.759248</td>\n",
       "      <td>0.759248</td>\n",
       "    </tr>\n",
       "  </tbody>\n",
       "</table>\n",
       "</div>"
      ],
      "text/plain": [
       "         Exhaustive     Forward    Backward    Stepwise          GA\n",
       "AIC      237.017458  237.017458  237.017458  237.017458  237.017458\n",
       "BIC      255.479003  255.479003  255.479003  255.479003  255.479003\n",
       "ADJ. R2    0.759248    0.759248    0.759248    0.759248    0.759248"
      ]
     },
     "execution_count": 27,
     "metadata": {},
     "output_type": "execute_result"
    }
   ],
   "source": [
    "res_df = pd.DataFrame({\"Exhaustive\": [best_eAIC[CRT_VALUE], best_eBIC[CRT_VALUE], best_eR2[CRT_VALUE]],\n",
    "                        \"Forward\": [best_fAIC[CRT_VALUE], best_fBIC[CRT_VALUE], best_fR2[CRT_VALUE]],\n",
    "                        \"Backward\": [best_bAIC[CRT_VALUE], best_bBIC[CRT_VALUE], best_bR2[CRT_VALUE]],\n",
    "                        \"Stepwise\": [best_sAIC[CRT_VALUE], best_sBIC[CRT_VALUE], best_sR2[CRT_VALUE]],\n",
    "                        \"GA\":[best_gaAIC.fitness, best_gaBIC.fitness, best_gaR2.fitness]}, index = [\"AIC\", \"BIC\", \"ADJ. R2\"])\n",
    "res_df"
   ]
  },
  {
   "cell_type": "markdown",
   "metadata": {},
   "source": [
    "### Osservazioni"
   ]
  },
  {
   "cell_type": "markdown",
   "metadata": {},
   "source": [
    "**Osservazione n° 1** : Tutti gli algoritmi raggiungono l'ottimo per tutti e 3 i criteri di valutazione.\n",
    "\n",
    "**Osservazione n° 2** : In tutti e 3 i casi l'algoritmo genetico ha raggiunto l'ottimo molto prima rispetto al limite massimo di epoche fissato, tuttavia ...\n",
    "\n",
    "**Osservazione n° 3** : ... il numero di modelli testati dall'algoritmo genetico è comunque significativamente maggiore rispetto ai metodi di selezione iterativa"
   ]
  }
 ],
 "metadata": {
  "kernelspec": {
   "display_name": "Python 3.8.3 ('.venv': venv)",
   "language": "python",
   "name": "python3"
  },
  "language_info": {
   "codemirror_mode": {
    "name": "ipython",
    "version": 3
   },
   "file_extension": ".py",
   "mimetype": "text/x-python",
   "name": "python",
   "nbconvert_exporter": "python",
   "pygments_lexer": "ipython3",
   "version": "3.8.3"
  },
  "orig_nbformat": 4,
  "vscode": {
   "interpreter": {
    "hash": "cad7d88e2f344c627dc2b37d96cce6f9f13ddfba03c9b1fdb05817b58b5c8f34"
   }
  }
 },
 "nbformat": 4,
 "nbformat_minor": 2
}
